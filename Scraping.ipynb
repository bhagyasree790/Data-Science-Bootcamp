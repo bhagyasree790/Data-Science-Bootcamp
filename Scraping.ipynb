{
  "nbformat": 4,
  "nbformat_minor": 0,
  "metadata": {
    "colab": {
      "provenance": []
    },
    "kernelspec": {
      "name": "python3",
      "display_name": "Python 3"
    },
    "language_info": {
      "name": "python"
    }
  },
  "cells": [
    {
      "cell_type": "code",
      "execution_count": null,
      "metadata": {
        "id": "gl2RLYqs_UW3"
      },
      "outputs": [],
      "source": [
        "!pip install requests-html"
      ]
    },
    {
      "cell_type": "code",
      "source": [
        "from requests_html import HTMLSession"
      ],
      "metadata": {
        "id": "x0y_rkLZ_ji0"
      },
      "execution_count": null,
      "outputs": []
    },
    {
      "cell_type": "code",
      "source": [
        "session = HTMLSession()"
      ],
      "metadata": {
        "id": "9gCs0o3A_ndM"
      },
      "execution_count": null,
      "outputs": []
    },
    {
      "cell_type": "markdown",
      "source": [
        "# DSE news Scraping"
      ],
      "metadata": {
        "id": "TPVvpsm_DewD"
      }
    },
    {
      "cell_type": "code",
      "source": [
        "url = \"https://dsebd.org/old_news.php?startDate=2022-08-20&endDate=2022-08-26&criteria=4&archive=news\"\n",
        "r = session.get(url)\n",
        "print(r.status_code)"
      ],
      "metadata": {
        "colab": {
          "base_uri": "https://localhost:8080/"
        },
        "id": "uS3K-2HqDhFa",
        "outputId": "bc417adb-06c6-4175-c990-5445b5895a69"
      },
      "execution_count": null,
      "outputs": [
        {
          "output_type": "stream",
          "name": "stdout",
          "text": [
            "200\n"
          ]
        }
      ]
    },
    {
      "cell_type": "code",
      "source": [
        "with open(\"dse_news.html\", \"w\") as f:\n",
        "  f.write(r.text)"
      ],
      "metadata": {
        "id": "Au27FXEukBQu"
      },
      "execution_count": null,
      "outputs": []
    },
    {
      "cell_type": "code",
      "source": [
        "dse_news = r.html.find(\".table-news\")[0].text"
      ],
      "metadata": {
        "id": "R23PR9BUw9up"
      },
      "execution_count": null,
      "outputs": []
    },
    {
      "cell_type": "code",
      "source": [
        "type(dse_news)"
      ],
      "metadata": {
        "colab": {
          "base_uri": "https://localhost:8080/"
        },
        "id": "_qS46-2Hw9xp",
        "outputId": "1aa91fa1-6cd4-46fc-967f-5ad38f2d720d"
      },
      "execution_count": null,
      "outputs": [
        {
          "output_type": "execute_result",
          "data": {
            "text/plain": [
              "str"
            ]
          },
          "metadata": {},
          "execution_count": 53
        }
      ]
    },
    {
      "cell_type": "code",
      "source": [
        "dse_news"
      ],
      "metadata": {
        "id": "1eKIL9rDw90m"
      },
      "execution_count": null,
      "outputs": []
    },
    {
      "cell_type": "code",
      "source": [
        "Trading Code, News Title, News, Post Date"
      ],
      "metadata": {
        "id": "xjxRoXAyw94Y"
      },
      "execution_count": null,
      "outputs": []
    },
    {
      "cell_type": "code",
      "source": [
        "dse_news_lst = dse_news.split('\\n')\n",
        "trading_code = dse_news_lst[1::8]\n",
        "news_title = dse_news_lst[3::8]\n",
        "news = dse_news_lst[5::8]\n",
        "post_date = dse_news_lst[7::8]"
      ],
      "metadata": {
        "id": "VMNve1wxw97P"
      },
      "execution_count": null,
      "outputs": []
    },
    {
      "cell_type": "code",
      "source": [
        "print(len(trading_code), len(news_title), len(news), len(post_date))"
      ],
      "metadata": {
        "colab": {
          "base_uri": "https://localhost:8080/"
        },
        "id": "iZ3jG9S3w996",
        "outputId": "d4c2d6ec-026a-4473-fdcb-5d70f9f64a92"
      },
      "execution_count": null,
      "outputs": [
        {
          "output_type": "stream",
          "name": "stdout",
          "text": [
            "196 196 196 196\n"
          ]
        }
      ]
    },
    {
      "cell_type": "code",
      "source": [
        "## Save the"
      ],
      "metadata": {
        "id": "DiT4-hUow-A8"
      },
      "execution_count": null,
      "outputs": []
    },
    {
      "cell_type": "markdown",
      "source": [
        "## Save the news data in a txt file \"dse_news.txt\""
      ],
      "metadata": {
        "id": "B9iLeWHF3nxi"
      }
    },
    {
      "cell_type": "code",
      "source": [
        "trading_code, news_title, news, post_date\n",
        "EEG,    WERQEWRE, QWERRQEWFSDF, 2022-08-23\n",
        "EEG,    WERQEWRE, QWERRQEWFSDF, 2022-08-23\n",
        "EEG,    WERQEWRE, QWERRQEWFSDF, 2022-08-23"
      ],
      "metadata": {
        "id": "V0y8ZjOiw-WQ"
      },
      "execution_count": null,
      "outputs": []
    },
    {
      "cell_type": "code",
      "source": [
        "with open(\"dse_news.txt\", \"w\") as f:\n",
        "  f.write(\"No, Trading Code, News Title, News, Post Date\\n\")\n",
        "  for i, t, nt, n, p in zip(range(1, len(trading_code)+1), trading_code, news_title, news, post_date):\n",
        "    f.write(f\"{i}, {t}, {nt}, {n}, {p}\")\n",
        "    f.write('\\n')"
      ],
      "metadata": {
        "id": "gidGbJ4s6N_A"
      },
      "execution_count": null,
      "outputs": []
    },
    {
      "cell_type": "code",
      "source": [],
      "metadata": {
        "id": "hpFrYNNF6OCF"
      },
      "execution_count": null,
      "outputs": []
    },
    {
      "cell_type": "markdown",
      "source": [
        "## Hadith Scraping"
      ],
      "metadata": {
        "id": "Bh4PYnZyDtqo"
      }
    },
    {
      "cell_type": "code",
      "source": [
        "def hadith_book_scrapping(book_name, url, total_chapter):\n",
        "  # url = \"http://ihadis.com/books/bukhari\"\n",
        "  for i in range(1, total_chapter+1):\n",
        "    chapter_url = url + \"/chapter/\" + str(i)\n",
        "    print(chapter_url)\n",
        "    # chapter_url = http://ihadis.com/books/bukhari/chapter/2\n",
        "\n",
        "    r = session.get(chapter_url)\n",
        "    # define the patter\n",
        "    no_pattern = \"h3.hidden-print\"\n",
        "    arabic_text_pattern = \"p.hadith-des2\"\n",
        "    bangla_text_pattern = \".hadith-des\"\n",
        "    narrator_pattern = \".narrated-by\"\n",
        "    hadith_status_pattern = \".label.validity\"\n",
        "\n",
        "    numbers = [i.text for i in r.html.find(no_pattern)]\n",
        "    arabic_text = [i.text for i in r.html.find(arabic_text_pattern)]\n",
        "    bangla_text = [i.text for i in r.html.find(bangla_text_pattern)]\n",
        "    narrator = [i.text for i in r.html.find(narrator_pattern)]\n",
        "    hadith_status = [i.text for i in r.html.find(hadith_status_pattern)]\n",
        "    print(\"Chapter: \", i, len(numbers), len(arabic_text), len(bangla_text), len(narrator), len(hadith_status))\n",
        "\n",
        "    with open(f\"{book_name}/{book_name}_chapter_{i}.txt\", \"w\") as f:\n",
        "      f.write(\"No., Arabic Text, Bangla Text, Narrator, Hadith Status\\n\")\n",
        "      for n, a, b, na, hs in zip(numbers, arabic_text, bangla_text, narrator, hadith_status):\n",
        "        f.write(f\"{n}, {a}, {b}, {na}, {hs}\")\n",
        "        f.write('\\n')\n"
      ],
      "metadata": {
        "id": "DY6jar5bsG71"
      },
      "execution_count": null,
      "outputs": []
    },
    {
      "cell_type": "code",
      "source": [
        "import time"
      ],
      "metadata": {
        "id": "PxNRatznwN_f"
      },
      "execution_count": null,
      "outputs": []
    },
    {
      "cell_type": "code",
      "source": [
        "book_name = \"muslim\"\n",
        "book_url = \"http://ihadis.com/books/muslim\"\n",
        "total_chapter = 56\n",
        "start = time.time()\n",
        "hadith_book_scrapping(book_name, book_url, total_chapter)\n",
        "print(f\"=========={time.time()-start}=======\")"
      ],
      "metadata": {
        "id": "V15zhRnTuQy9"
      },
      "execution_count": null,
      "outputs": []
    },
    {
      "cell_type": "markdown",
      "source": [
        "# Bikroy.com Scrapping"
      ],
      "metadata": {
        "id": "ydc6hvyG7DO2"
      }
    },
    {
      "cell_type": "code",
      "source": [
        "url = \"https://bikroy.com/bn/ad/symphony-i70-i75-original-charger-used-for-sale-rajshahi\"\n",
        "r = session.get(url)\n",
        "r.status_code"
      ],
      "metadata": {
        "colab": {
          "base_uri": "https://localhost:8080/"
        },
        "id": "kDRRavhr7Cq-",
        "outputId": "1c3142d3-8cab-4f1d-ab4d-b43bf0986bb6"
      },
      "execution_count": null,
      "outputs": [
        {
          "output_type": "execute_result",
          "data": {
            "text/plain": [
              "200"
            ]
          },
          "metadata": {},
          "execution_count": 149
        }
      ]
    },
    {
      "cell_type": "code",
      "source": [
        "r.html.render()"
      ],
      "metadata": {
        "id": "maJycT0H9xbb"
      },
      "execution_count": null,
      "outputs": []
    },
    {
      "cell_type": "code",
      "source": [
        "title = r.html.find('#app-wrapper > div.container--3Gaei.all > div.main-section--34CB3 > div:nth-child(2) > div.details-section--2ggRy > div.header--3WCle > div.title-container--1PPnS > div > h1', first=True)\n",
        "title"
      ],
      "metadata": {
        "colab": {
          "base_uri": "https://localhost:8080/"
        },
        "id": "qMhhTODS7Cth",
        "outputId": "18febaec-cc40-4c7d-c137-ac7aa72bb70a"
      },
      "execution_count": null,
      "outputs": [
        {
          "output_type": "execute_result",
          "data": {
            "text/plain": [
              "<Element 'h1' class=('title--3s1R8',)>"
            ]
          },
          "metadata": {},
          "execution_count": 151
        }
      ]
    },
    {
      "cell_type": "code",
      "source": [
        "title.text"
      ],
      "metadata": {
        "id": "iyNjSEsgXXkq",
        "colab": {
          "base_uri": "https://localhost:8080/",
          "height": 36
        },
        "outputId": "0b66d34e-a46b-4f6e-98d9-e37f3bd33a74"
      },
      "execution_count": null,
      "outputs": [
        {
          "output_type": "execute_result",
          "data": {
            "text/plain": [
              "'Symphony i75 (Used)'"
            ],
            "application/vnd.google.colaboratory.intrinsic+json": {
              "type": "string"
            }
          },
          "metadata": {},
          "execution_count": 152
        }
      ]
    },
    {
      "cell_type": "code",
      "source": [
        "price = r.html.find('#app-wrapper > div.container--3Gaei.all > div.main-section--34CB3 > div:nth-child(2) > div.details-section--2ggRy > div.justify-content-flex-start--1Xozy.align-items-normal--vaTgD.flex-wrap-nowrap--3IpfJ.flex-direction-row--27fh1.flex--3fKk1 > div > div.sm-col-12--30zDS.lg-col-8--3483a.block--3v-Ow > div > div.section--PpGYD > div.price-section--3xCm3 > div > div.amount--3NTpl', first=True)\n",
        "price.text"
      ],
      "metadata": {
        "colab": {
          "base_uri": "https://localhost:8080/",
          "height": 36
        },
        "id": "Qz5NAR5D8b1M",
        "outputId": "a616eebb-166d-4c0d-fb80-730b4c9c5abe"
      },
      "execution_count": null,
      "outputs": [
        {
          "output_type": "execute_result",
          "data": {
            "text/plain": [
              "'৳ ৪,০০০'"
            ],
            "application/vnd.google.colaboratory.intrinsic+json": {
              "type": "string"
            }
          },
          "metadata": {},
          "execution_count": 153
        }
      ]
    },
    {
      "cell_type": "code",
      "source": [
        "brand = r.html.find('#app-wrapper > div.container--3Gaei.all > div.main-section--34CB3 > div:nth-child(2) > div.details-section--2ggRy > div.justify-content-flex-start--1Xozy.align-items-normal--vaTgD.flex-wrap-nowrap--3IpfJ.flex-direction-row--27fh1.flex--3fKk1 > div > div.sm-col-12--30zDS.lg-col-8--3483a.block--3v-Ow > div > div.section--PpGYD > div.ad-meta--17Bqm.justify-content-flex-start--1Xozy.align-items-normal--vaTgD.flex-wrap-wrap--2PCx8.flex-direction-row--27fh1.flex--3fKk1 > div:nth-child(2) > div.word-break--2nyVq.value--1lKHt > div > a > span', first=True)\n",
        "brand.text"
      ],
      "metadata": {
        "colab": {
          "base_uri": "https://localhost:8080/",
          "height": 36
        },
        "id": "e_Jd4uZd8b4f",
        "outputId": "ded44814-4747-4c34-f9be-26b22421dfe6"
      },
      "execution_count": null,
      "outputs": [
        {
          "output_type": "execute_result",
          "data": {
            "text/plain": [
              "'Symphony'"
            ],
            "application/vnd.google.colaboratory.intrinsic+json": {
              "type": "string"
            }
          },
          "metadata": {},
          "execution_count": 154
        }
      ]
    },
    {
      "cell_type": "code",
      "source": [
        "image = r.html.find('img')\n",
        "image[0]"
      ],
      "metadata": {
        "colab": {
          "base_uri": "https://localhost:8080/"
        },
        "id": "SzISCa0x8b65",
        "outputId": "9d450877-9f4b-4107-a64d-77a73df8dde7"
      },
      "execution_count": null,
      "outputs": [
        {
          "output_type": "execute_result",
          "data": {
            "text/plain": [
              "<Element 'img' class=('normal-ad--1TyjD',) src='https://i.bikroy-st.com/symphony-i70-i75-original-charger-used-for-sale-rajshahi-1/0f3ecd7e-981c-45f8-afaa-863febfaf1d3/142/107/cropped.jpg' alt='Symphony i75 (Used)' data-testid='' loading='lazy'>"
            ]
          },
          "metadata": {},
          "execution_count": 158
        }
      ]
    },
    {
      "cell_type": "code",
      "source": [
        "image[0].attrs['src']"
      ],
      "metadata": {
        "colab": {
          "base_uri": "https://localhost:8080/",
          "height": 36
        },
        "id": "hflUvix88b98",
        "outputId": "84e2d1d0-df98-4998-a366-24595c1eb16a"
      },
      "execution_count": null,
      "outputs": [
        {
          "output_type": "execute_result",
          "data": {
            "text/plain": [
              "'https://i.bikroy-st.com/symphony-i70-i75-original-charger-used-for-sale-rajshahi-1/0f3ecd7e-981c-45f8-afaa-863febfaf1d3/142/107/cropped.jpg'"
            ],
            "application/vnd.google.colaboratory.intrinsic+json": {
              "type": "string"
            }
          },
          "metadata": {},
          "execution_count": 163
        }
      ]
    },
    {
      "cell_type": "code",
      "source": [
        "from PIL import Image\n",
        "from io import BytesIO"
      ],
      "metadata": {
        "id": "B-GtjLgn_xS3"
      },
      "execution_count": null,
      "outputs": []
    },
    {
      "cell_type": "code",
      "source": [
        "r = session.get(image[0].attrs['src'])\n",
        "i = Image.open(BytesIO(r.content))\n",
        "i.save(f\"sample_1.jpg\")"
      ],
      "metadata": {
        "id": "7j0LR1c18cBh"
      },
      "execution_count": null,
      "outputs": []
    },
    {
      "cell_type": "code",
      "source": [],
      "metadata": {
        "id": "lCqNv9O88cES"
      },
      "execution_count": null,
      "outputs": []
    },
    {
      "cell_type": "code",
      "source": [
        "from google.colab import drive\n",
        "drive.mount('/content/drive')"
      ],
      "metadata": {
        "id": "fv534w1lB9vs"
      },
      "execution_count": null,
      "outputs": []
    },
    {
      "cell_type": "code",
      "source": [],
      "metadata": {
        "id": "JcHSnbw48cMz"
      },
      "execution_count": null,
      "outputs": []
    },
    {
      "cell_type": "markdown",
      "source": [],
      "metadata": {
        "id": "FaCE314LYdPi"
      }
    }
  ]
}